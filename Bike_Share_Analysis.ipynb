{
 "cells": [
  {
   "cell_type": "markdown",
   "metadata": {},
   "source": [
    "# 2016 US Bike Share Activity Snapshot\n",
    "\n",
    "## Table of Contents\n",
    "- [Introduction](#intro)\n",
    "- [Posing Questions](#pose_questions)\n",
    "- [Data Collection and Wrangling](#wrangling)\n",
    "  - [Condensing the Trip Data](#condensing)\n",
    "- [Exploratory Data Analysis](#eda)\n",
    "  - [Statistics](#statistics)\n",
    "  - [Visualizations](#visualizations)\n",
    "- [Performing Your Own Analysis](#eda_continued)\n",
    "- [Conclusions](#conclusions)\n",
    "\n",
    "<a id='intro'></a>\n",
    "## Introduction\n",
    "\n",
    "> **Tip**: Quoted sections like this will provide helpful instructions on how to navigate and use a Jupyter notebook.\n",
    "\n",
    "Over the past decade, bicycle-sharing systems have been growing in number and popularity in cities across the world. Bicycle-sharing systems allow users to rent bicycles for short trips, typically 30 minutes or less. Thanks to the rise in information technologies, it is easy for a user of the system to access a dock within the system to unlock or return bicycles. These technologies also provide a wealth of data that can be used to explore how these bike-sharing systems are used.\n",
    "\n",
    "In this project, you will perform an exploratory analysis on data provided by [Motivate](https://www.motivateco.com/), a bike-share system provider for many major cities in the United States. You will compare the system usage between three large cities: New York City, Chicago, and Washington, DC. You will also see if there are any differences within each system for those users that are registered, regular users and those users that are short-term, casual users."
   ]
  },
  {
   "cell_type": "markdown",
   "metadata": {},
   "source": [
    "<a id='pose_questions'></a>\n",
    "## Posing Questions\n",
    "\n",
    "Before looking at the bike sharing data, you should start by asking questions you might want to understand about the bike share data. Consider, for example, if you were working for Motivate. What kinds of information would you want to know about in order to make smarter business decisions? If you were a user of the bike-share service, what factors might influence how you would want to use the service?\n",
    "\n",
    "**Question 1**: Write at least two questions related to bike sharing that you think could be answered by data.\n",
    "\n",
    "**Answer**: 1.In terms of taking smart Business decisions the following question will raise in my mind:\n",
    "                - How many users are currently regirsterd to the system?\n",
    "                - How many of them are regular users and short-term usres?\n",
    "                - For how much distance they used Bycycles to travel?\n",
    "                - Which are the most used pickup points?\n",
    "                - Which areas are the most used for travel? \n",
    "                \n",
    "            2.In terms of user of the system the following questions will raise in my mind:\n",
    "                - Good conditioned cycles.\n",
    "                - Hassel free payment system\n",
    "                - Easy to use system.\n",
    "\n",
    "> **Tip**: If you double click on this cell, you will see the text change so that all of the formatting is removed. This allows you to edit this block of text. This block of text is written using [Markdown](http://daringfireball.net/projects/markdown/syntax), which is a way to format text using headers, links, italics, and many other options using a plain-text syntax. You will also use Markdown later in the Nanodegree program. Use **Shift** + **Enter** or **Shift** + **Return** to run the cell and show its rendered form."
   ]
  },
  {
   "cell_type": "markdown",
   "metadata": {},
   "source": [
    "<a id='wrangling'></a>\n",
    "## Data Collection and Wrangling\n",
    "\n",
    "Now it's time to collect and explore our data. In this project, we will focus on the record of individual trips taken in 2016 from our selected cities: New York City, Chicago, and Washington, DC. Each of these cities has a page where we can freely download the trip data.:\n",
    "\n",
    "- New York City (Citi Bike): [Link](https://www.citibikenyc.com/system-data)\n",
    "- Chicago (Divvy): [Link](https://www.divvybikes.com/system-data)\n",
    "- Washington, DC (Capital Bikeshare): [Link](https://www.capitalbikeshare.com/system-data)\n",
    "\n",
    "If you visit these pages, you will notice that each city has a different way of delivering its data. Chicago updates with new data twice a year, Washington DC is quarterly, and New York City is monthly. **However, you do not need to download the data yourself.** The data has already been collected for you in the `/data/` folder of the project files. While the original data for 2016 is spread among multiple files for each city, the files in the `/data/` folder collect all of the trip data for the year into one file per city. Some data wrangling of inconsistencies in timestamp format within each city has already been performed for you. In addition, a random 2% sample of the original data is taken to make the exploration more manageable. \n",
    "\n",
    "**Question 2**: However, there is still a lot of data for us to investigate, so it's a good idea to start off by looking at one entry from each of the cities we're going to analyze. Run the first code cell below to load some packages and functions that you'll be using in your analysis. Then, complete the second code cell to print out the first trip recorded from each of the cities (the second line of each data file).\n",
    "\n",
    "> **Tip**: You can run a code cell like you formatted Markdown cells above by clicking on the cell and using the keyboard shortcut **Shift** + **Enter** or **Shift** + **Return**. Alternatively, a code cell can be executed using the **Play** button in the toolbar after selecting it. While the cell is running, you will see an asterisk in the message to the left of the cell, i.e. `In [*]:`. The asterisk will change into a number to show that execution has completed, e.g. `In [1]`. If there is output, it will show up as `Out [1]:`, with an appropriate number to match the \"In\" number."
   ]
  },
  {
   "cell_type": "code",
   "execution_count": 2,
   "metadata": {},
   "outputs": [],
   "source": [
    "## import all necessary packages and functions.\n",
    "import csv # read and write csv files\n",
    "from datetime import datetime # operations to parse dates\n",
    "from pprint import pprint # use to print data structures like dictionaries in\n",
    "                          # a nicer way than the base print function."
   ]
  },
  {
   "cell_type": "code",
   "execution_count": 3,
   "metadata": {},
   "outputs": [],
   "source": [
    "def print_first_point(filename):\n",
    "    \"\"\"\n",
    "    This function prints and returns the first data point (second row) from\n",
    "    a csv file that includes a header row.\n",
    "    \"\"\"\n",
    "    # print city name for reference\n",
    "    city = filename.split('-')[0].split('/')[-1]\n",
    "    #print('\\nCity: {}'.format(city))\n",
    "    \n",
    "    with open(filename, 'r') as f_in:\n",
    "        ## TODO: Use the csv library to set up a DictReader object. ##\n",
    "        ## see https://docs.python.org/3/library/csv.html           ##\n",
    "        trip_reader = csv.DictReader(f_in)\n",
    "        \n",
    "        ## TODO: Use a function on the DictReader object to read the     ##\n",
    "        ## first trip from the data file and store it in a variable.     ##\n",
    "        ## see https://docs.python.org/3/library/csv.html#reader-objects ##\n",
    "        trip_data_inlist = list(trip_reader)\n",
    "        first_trip = trip_data_inlist[0]\n",
    "        \n",
    "        ## TODO: Use the pprint library to print the first trip. ##\n",
    "        ## see https://docs.python.org/3/library/pprint.html     ##\n",
    "        #pprint(first_trip)\n",
    "    # output city name and first trip for later testing\n",
    "    return (city, first_trip)\n",
    "\n",
    "# list of files for each city\n",
    "data_files = ['./data/NYC-CitiBike-2016.csv',\n",
    "              './data/Chicago-Divvy-2016.csv',\n",
    "              './data/Washington-CapitalBikeshare-2016.csv',]\n",
    "\n",
    "# print the first trip from each file, store in dictionary\n",
    "example_trips = {}\n",
    "for data_file in data_files:\n",
    "    city, first_trip = print_first_point(data_file)\n",
    "    #print(city)\n",
    "    #print(first_trip)\n",
    "    example_trips[city] = first_trip\n",
    "#print(example_trips['NYC'])"
   ]
  },
  {
   "cell_type": "markdown",
   "metadata": {},
   "source": [
    "If everything has been filled out correctly, you should see below the printout of each city name (which has been parsed from the data file name) that the first trip has been parsed in the form of a dictionary. When you set up a `DictReader` object, the first row of the data file is normally interpreted as column names. Every other row in the data file will use those column names as keys, as a dictionary is generated for each row.\n",
    "\n",
    "This will be useful since we can refer to quantities by an easily-understandable label instead of just a numeric index. For example, if we have a trip stored in the variable `row`, then we would rather get the trip duration from `row['duration']` instead of `row[0]`.\n",
    "\n",
    "<a id='condensing'></a>\n",
    "### Condensing the Trip Data\n",
    "\n",
    "It should also be observable from the above printout that each city provides different information. Even where the information is the same, the column names and formats are sometimes different. To make things as simple as possible when we get to the actual exploration, we should trim and clean the data. Cleaning the data makes sure that the data formats across the cities are consistent, while trimming focuses only on the parts of the data we are most interested in to make the exploration easier to work with.\n",
    "\n",
    "You will generate new data files with five values of interest for each trip: trip duration, starting month, starting hour, day of the week, and user type. Each of these may require additional wrangling depending on the city:\n",
    "\n",
    "- **Duration**: This has been given to us in seconds (New York, Chicago) or milliseconds (Washington). A more natural unit of analysis will be if all the trip durations are given in terms of minutes.\n",
    "- **Month**, **Hour**, **Day of Week**: Ridership volume is likely to change based on the season, time of day, and whether it is a weekday or weekend. Use the start time of the trip to obtain these values. The New York City data includes the seconds in their timestamps, while Washington and Chicago do not. The [`datetime`](https://docs.python.org/3/library/datetime.html) package will be very useful here to make the needed conversions.\n",
    "- **User Type**: It is possible that users who are subscribed to a bike-share system will have different patterns of use compared to users who only have temporary passes. Washington divides its users into two types: 'Registered' for users with annual, monthly, and other longer-term subscriptions, and 'Casual', for users with 24-hour, 3-day, and other short-term passes. The New York and Chicago data uses 'Subscriber' and 'Customer' for these groups, respectively. For consistency, you will convert the Washington labels to match the other two.\n",
    "\n",
    "\n",
    "**Question 3a**: Complete the helper functions in the code cells below to address each of the cleaning tasks described above."
   ]
  },
  {
   "cell_type": "code",
   "execution_count": 4,
   "metadata": {},
   "outputs": [
    {
     "name": "stdout",
     "output_type": "stream",
     "text": [
      "Program is correct\n"
     ]
    }
   ],
   "source": [
    "def duration_in_mins(datum, city):\n",
    "    \"\"\"\n",
    "    Takes as input a dictionary containing info about a single trip (datum) and\n",
    "    its origin city (city) and returns the trip duration in units of minutes.\n",
    "    \n",
    "    Remember that Washington is in terms of milliseconds while Chicago and NYC\n",
    "    are in terms of seconds. \n",
    "    \n",
    "    HINT: The csv module reads in all of the data as strings, including numeric\n",
    "    values. You will need a function to convert the strings into an appropriate\n",
    "    numeric type when making your transformations.\n",
    "    see https://docs.python.org/3/library/functions.html\n",
    "    \"\"\"\n",
    "    \n",
    "    # YOUR CODE HERE\n",
    "    if city == 'Washington':\n",
    "        duration = int(datum[\"Duration (ms)\"])\n",
    "        duration = ((duration) / (1000*60))\n",
    "    else:\n",
    "        duration = int(datum['tripduration'])\n",
    "        duration = duration / 60\n",
    "    return duration\n",
    "    #print(datum)\n",
    "\n",
    "# Some tests to check that your code works. There should be no output if all of\n",
    "# the assertions pass. The `example_trips` dictionary was obtained from when\n",
    "# you printed the first trip from each of the original data files.\n",
    "tests = {'NYC': 13.9833,\n",
    "         'Chicago': 15.4333,\n",
    "         'Washington': 7.1231}\n",
    "\n",
    "for city in tests:\n",
    "    assert abs(duration_in_mins(example_trips[city], city) - tests[city]) < .001\n",
    "    #duration_in_mins(example_trips[city],city)\n",
    "print(\"Program is correct\")"
   ]
  },
  {
   "cell_type": "code",
   "execution_count": 5,
   "metadata": {},
   "outputs": [
    {
     "name": "stdout",
     "output_type": "stream",
     "text": [
      "Program is correct\n"
     ]
    }
   ],
   "source": [
    "def time_of_trip(datum, city):\n",
    "    \"\"\"\n",
    "    Takes as input a dictionary containing info about a single trip (datum) and\n",
    "    its origin city (city) and returns the month, hour, and day of the week in\n",
    "    which the trip was made.\n",
    "    \n",
    "    Remember that NYC includes seconds, while Washington and Chicago do not.\n",
    "    \n",
    "    HINT: You should use the datetime module to parse the original date\n",
    "    strings into a format that is useful for extracting the desired information.\n",
    "    see https://docs.python.org/3/library/datetime.html#strftime-and-strptime-behavior\n",
    "    \"\"\"\n",
    "    \n",
    "    # YOUR CODE HERE\n",
    "    if city == \"NYC\":\n",
    "        date_str = datum['starttime']\n",
    "        r_NYC = datetime.strptime(date_str,'%m/%d/%Y %H:%M:%S')\n",
    "        month = r_NYC.month\n",
    "        hour = r_NYC.hour\n",
    "        day = r_NYC.weekday()\n",
    "        day_of_week = week_days(day)\n",
    "    if city == 'Washington':\n",
    "        date_str = datum['Start date']\n",
    "        r_WS = datetime.strptime(date_str,'%m/%d/%Y %H:%M')\n",
    "        month = r_WS.month\n",
    "        hour = r_WS.hour\n",
    "        day = r_WS.weekday()\n",
    "        day_of_week = week_days(day)\n",
    "    if city == 'Chicago':\n",
    "        date_str = datum['starttime']\n",
    "        r_chi = datetime.strptime(date_str,'%m/%d/%Y %H:%M')\n",
    "        month = r_chi.month\n",
    "        hour = r_chi.hour\n",
    "        day = r_chi.weekday()\n",
    "        day_of_week = week_days(day)\n",
    "    return (month, hour, day_of_week)\n",
    "    #return (month, hour)\n",
    "days_list = {0:'Monday',1:'Tuesday',2:'Wensday',3:'Thursday',4:'Friday',5:'Saturday',6:'Sunday'}\n",
    "def week_days(day):\n",
    "    for key in days_list:\n",
    "        if day == key:\n",
    "            day = days_list[key]\n",
    "    return day\n",
    "# Some tests to check that your code works. There should be no output if all of\n",
    "# the assertions pass. The `example_trips` dictionary was obtained from when\n",
    "# you printed the first trip from each of the original data files.\n",
    "tests = {'NYC': (1, 0, 'Friday'),\n",
    "         'Chicago': (3, 23, 'Thursday'),\n",
    "         'Washington': (3, 22, 'Thursday')}\n",
    "\n",
    "for city in tests:\n",
    "    assert time_of_trip(example_trips[city], city) == tests[city]\n",
    "print(\"Program is correct\")"
   ]
  },
  {
   "cell_type": "code",
   "execution_count": 6,
   "metadata": {},
   "outputs": [
    {
     "name": "stdout",
     "output_type": "stream",
     "text": [
      "Program is correct..!\n"
     ]
    }
   ],
   "source": [
    "def type_of_user(datum, city):\n",
    "    \"\"\"\n",
    "    Takes as input a dictionary containing info about a single trip (datum) and\n",
    "    its origin city (city) and returns the type of system user that made the\n",
    "    trip.\n",
    "    \n",
    "    Remember that Washington has different category names compared to Chicago\n",
    "    and NYC. \n",
    "    \"\"\"\n",
    "    \n",
    "    # YOUR CODE HERE\n",
    "    user_type = ''\n",
    "    if city == 'Washington':\n",
    "        user_type = datum['Member Type']\n",
    "        if user_type == 'Registered':\n",
    "            user_type = 'Subscriber'\n",
    "        else:\n",
    "            user_type = 'Customer'\n",
    "    else:\n",
    "        user_type = datum['usertype']\n",
    "    return user_type\n",
    "\n",
    "# Some tests to check that your code works. There should be no output if all of\n",
    "# the assertions pass. The `example_trips` dictionary was obtained from when\n",
    "# you printed the first trip from each of the original data files.\n",
    "tests = {'NYC': 'Customer',\n",
    "         'Chicago': 'Subscriber',\n",
    "         'Washington': 'Subscriber'}\n",
    "\n",
    "for city in tests:\n",
    "    assert type_of_user(example_trips[city], city) == tests[city]\n",
    "print(\"Program is correct..!\")"
   ]
  },
  {
   "cell_type": "markdown",
   "metadata": {},
   "source": [
    "**Question 3b**: Now, use the helper functions you wrote above to create a condensed data file for each city consisting only of the data fields indicated above. In the `/examples/` folder, you will see an example datafile from the [Bay Area Bike Share](http://www.bayareabikeshare.com/open-data) before and after conversion. Make sure that your output is formatted to be consistent with the example file."
   ]
  },
  {
   "cell_type": "code",
   "execution_count": 7,
   "metadata": {},
   "outputs": [],
   "source": [
    "def condense_data(in_file, out_file, city):\n",
    "    \"\"\"\n",
    "    This function takes full data from the specified input file\n",
    "    and writes the condensed data to a specified output file. The city\n",
    "    argument determines how the input file will be parsed.\n",
    "    \n",
    "    HINT: See the cell below to see how the arguments are structured!\n",
    "    \"\"\"\n",
    "    \n",
    "    with open(out_file, 'w') as f_out, open(in_file, 'r') as f_in:\n",
    "        # set up csv DictWriter object - writer requires column names for the\n",
    "        # first row as the \"fieldnames\" argument\n",
    "        out_colnames = ['duration', 'month', 'hour', 'day_of_week', 'user_type']        \n",
    "        trip_writer = csv.DictWriter(f_out, fieldnames = out_colnames)\n",
    "        trip_writer.writeheader()\n",
    "        \n",
    "        ## TODO: set up csv DictReader object ##\n",
    "        trip_reader = csv.DictReader(f_in)\n",
    "        # collect data from and process each row\n",
    "        for row in trip_reader:\n",
    "            # set up a dictionary to hold the values for the cleaned and trimmed\n",
    "            # data point\n",
    "            new_point = {}\n",
    "            ## TODO: use the helper functions to get the cleaned data from  ##\n",
    "            ## the original data dictionaries.                              ##\n",
    "            ## Note that the keys for the new_point dictionary should match ##\n",
    "            ## the column names set in the DictWriter object above.         ##\n",
    "            duration = duration_in_mins(row,city)\n",
    "            month,hour,day_of_week = time_of_trip(row,city)\n",
    "            user_type = type_of_user(row,city)\n",
    "            new_point['duration'] = duration\n",
    "            new_point['month'] = month\n",
    "            new_point['hour'] = hour\n",
    "            new_point['day_of_week'] = day_of_week\n",
    "            new_point['user_type'] = user_type\n",
    "            \n",
    "            ## TODO: write the processed information to the output file.     ##\n",
    "            ## see https://docs.python.org/3/library/csv.html#writer-objects ##\n",
    "            trip_writer.writerow(new_point)"
   ]
  },
  {
   "cell_type": "code",
   "execution_count": 8,
   "metadata": {
    "scrolled": false
   },
   "outputs": [],
   "source": [
    "# Run this cell to check your work\n",
    "city_info = {'Washington': {'in_file': './data/Washington-CapitalBikeshare-2016.csv',\n",
    "                            'out_file': './data/Washington-2016-Summary.csv'},\n",
    "             'Chicago': {'in_file': './data/Chicago-Divvy-2016.csv',\n",
    "                         'out_file': './data/Chicago-2016-Summary.csv'},\n",
    "             'NYC': {'in_file': './data/NYC-CitiBike-2016.csv',\n",
    "                     'out_file': './data/NYC-2016-Summary.csv'}}\n",
    "\n",
    "for city, filenames in city_info.items():\n",
    "    condense_data(filenames['in_file'], filenames['out_file'], city)\n",
    "    print_first_point(filenames['out_file'])"
   ]
  },
  {
   "cell_type": "markdown",
   "metadata": {},
   "source": [
    "> **Tip**: If you save a jupyter Notebook, the output from running code blocks will also be saved. However, the state of your workspace will be reset once a new session is started. Make sure that you run all of the necessary code blocks from your previous session to reestablish variables and functions before picking up where you last left off.\n",
    "\n",
    "<a id='eda'></a>\n",
    "## Exploratory Data Analysis\n",
    "\n",
    "Now that you have the data collected and wrangled, you're ready to start exploring the data. In this section you will write some code to compute descriptive statistics from the data. You will also be introduced to the `matplotlib` library to create some basic histograms of the data.\n",
    "\n",
    "<a id='statistics'></a>\n",
    "### Statistics\n",
    "\n",
    "First, let's compute some basic counts. The first cell below contains a function that uses the csv module to iterate through a provided data file, returning the number of trips made by subscribers and customers. The second cell runs this function on the example Bay Area data in the `/examples/` folder. Modify the cells to answer the question below.\n",
    "\n",
    "**Question 4a**: Which city has the highest number of trips? Which city has the highest proportion of trips made by subscribers? Which city has the highest proportion of trips made by short-term customers?\n",
    "\n",
    "**Answer**: _NYC city has the highest numbers of trips. NYC city has the highest proportion of trips made by subscribers. NYC city has the highest proportion of trips made by short-term customers._ "
   ]
  },
  {
   "cell_type": "code",
   "execution_count": 9,
   "metadata": {},
   "outputs": [],
   "source": [
    "def number_of_trips(filename):\n",
    "    \"\"\"\n",
    "    This function reads in a file with trip data and reports the number of\n",
    "    trips made by subscribers, customers, and total overall.\n",
    "    \"\"\"\n",
    "    with open(filename, 'r') as f_in:\n",
    "        # set up csv reader object\n",
    "        reader = csv.DictReader(f_in)\n",
    "        city = filename.split('-')[0].split('/')[-1]\n",
    "        print(city)\n",
    "        # initialize count variables\n",
    "        n_subscribers = 0\n",
    "        n_customers = 0\n",
    "        \n",
    "        # tally up ride types\n",
    "        for row in reader:\n",
    "            if row['user_type'] == 'Subscriber':\n",
    "                n_subscribers += 1\n",
    "            else:\n",
    "                n_customers += 1\n",
    "        \n",
    "        # compute total number of rides\n",
    "        n_total = n_subscribers + n_customers\n",
    "        \n",
    "        # return tallies as a tuple\n",
    "        return(n_subscribers, n_customers, n_total)"
   ]
  },
  {
   "cell_type": "code",
   "execution_count": 10,
   "metadata": {},
   "outputs": [
    {
     "name": "stdout",
     "output_type": "stream",
     "text": [
      "NYC\n",
      "(245896, 30902, 276798)\n",
      "Chicago\n",
      "(54982, 17149, 72131)\n",
      "Washington\n",
      "(51753, 14573, 66326)\n"
     ]
    }
   ],
   "source": [
    "files = ['./data/NYC-2016-Summary.csv',\n",
    "         './data/Chicago-2016-Summary.csv',\n",
    "         './data/Washington-2016-Summary.csv']\n",
    "for file in files:\n",
    "    print(number_of_trips(file))"
   ]
  },
  {
   "cell_type": "code",
   "execution_count": 11,
   "metadata": {},
   "outputs": [],
   "source": [
    "## Modify this and the previous cell to answer Question 4a. Remember to run ##\n",
    "## the function on the cleaned data files you created from Question 3.      ##\n",
    "\n",
    "#data_file = './examples/BayArea-Y3-Summary.csv'\n",
    "#print(number_of_trips(data_file))"
   ]
  },
  {
   "cell_type": "markdown",
   "metadata": {},
   "source": [
    "> **Tip**: In order to add additional cells to a notebook, you can use the \"Insert Cell Above\" and \"Insert Cell Below\" options from the menu bar above. There is also an icon in the toolbar for adding new cells, with additional icons for moving the cells up and down the document. By default, new cells are of the code type; you can also specify the cell type (e.g. Code or Markdown) of selected cells from the Cell menu or the dropdown in the toolbar.\n",
    "\n",
    "Now, you will write your own code to continue investigating properties of the data.\n",
    "\n",
    "**Question 4b**: Bike-share systems are designed for riders to take short trips. Most of the time, users are allowed to take trips of 30 minutes or less with no additional charges, with overage charges made for trips of longer than that duration. What is the average trip length for each city? What proportion of rides made in each city are longer than 30 minutes?\n",
    "\n",
    "**Answer**: Average trip length for each city:\n",
    "                City_NYC-:15 minutes\n",
    "                City_Chicago-: 16 minutes\n",
    "                City_Washington-: 18 minutes\n",
    "                Bay_area: 14 minutes\n",
    "            Propotion of rides longer than 30 minutes:\n",
    "                City_NYC:7.3%\n",
    "                City_Chicago:8.3%\n",
    "                City_Washington:10.8%\n",
    "                Bay_area:3.5%"
   ]
  },
  {
   "cell_type": "code",
   "execution_count": 12,
   "metadata": {
    "scrolled": true
   },
   "outputs": [],
   "source": [
    "## Use this and additional cells to answer Question 4b.                 ##\n",
    "##                                                                      ##\n",
    "## HINT: The csv module reads in all of the data as strings, including  ##\n",
    "## numeric values. You will need a function to convert the strings      ##\n",
    "## into an appropriate numeric type before you aggregate data.          ##\n",
    "## TIP: For the Bay Area example, the average trip length is 14 minutes ##\n",
    "## and 3.5% of trips are longer than 30 minutes.                        ##\n",
    "def avg_trip_length(filename):\n",
    "    '''\n",
    "    This function reads in a file with a trip data and claculates \n",
    "    the average trip length.\n",
    "    '''\n",
    "    city = filename.split('-')[0].split('/')[-1]\n",
    "    print(city + \":-\")\n",
    "    sum = 0\n",
    "    count = 0\n",
    "    avg = 0\n",
    "    with open(filename,'r')as f_in:\n",
    "        reader = csv.DictReader(f_in)\n",
    "        for row in reader:\n",
    "            sum = sum + float(row['duration'])\n",
    "            count = count + 1\n",
    "        avg = int(sum/count)\n",
    "        return avg"
   ]
  },
  {
   "cell_type": "code",
   "execution_count": 13,
   "metadata": {},
   "outputs": [
    {
     "name": "stdout",
     "output_type": "stream",
     "text": [
      "NYC:-\n",
      "15 minutes\n",
      "Chicago:-\n",
      "16 minutes\n",
      "Washington:-\n",
      "18 minutes\n",
      "BayArea:-\n",
      "14 minutes\n"
     ]
    }
   ],
   "source": [
    "files = ['./data/NYC-2016-Summary.csv',\n",
    "         './data/Chicago-2016-Summary.csv',\n",
    "         './data/Washington-2016-Summary.csv',\n",
    "         './examples/BayArea-Y3-Summary.csv']\n",
    "for file in files:\n",
    "    print(str(avg_trip_length(file))+\" minutes\")"
   ]
  },
  {
   "cell_type": "code",
   "execution_count": 14,
   "metadata": {},
   "outputs": [],
   "source": [
    "def rides_greater_thirty(filename):\n",
    "    '''\n",
    "    This function reads in a file with trip data and calculates the proportion of rides \n",
    "    greater than 30 minutes.\n",
    "    '''\n",
    "    city = filename.split('-')[0].split('/')[-1]\n",
    "    print(city+\":-\")\n",
    "    \n",
    "    #Initialize variables for computations.\n",
    "    dur_count = 0\n",
    "    total_count = 0\n",
    "    rides_greater_thirty = 0\n",
    "    \n",
    "    #Open the file and read in.\n",
    "    with open(filename,'r')as f_in:\n",
    "        #Create reader object.\n",
    "        reader = csv.DictReader(f_in)\n",
    "        for row in reader:\n",
    "            if float(row['duration']) > 30.0:\n",
    "                dur_count += 1\n",
    "            total_count += 1\n",
    "        rides_greater_thirty = (dur_count / total_count)*100\n",
    "        return round(rides_greater_thirty,1)"
   ]
  },
  {
   "cell_type": "code",
   "execution_count": 15,
   "metadata": {},
   "outputs": [
    {
     "name": "stdout",
     "output_type": "stream",
     "text": [
      "NYC:-\n",
      "7.3%\n",
      "Chicago:-\n",
      "8.3%\n",
      "Washington:-\n",
      "10.8%\n",
      "BayArea:-\n",
      "3.5%\n"
     ]
    }
   ],
   "source": [
    "files = ['./data/NYC-2016-Summary.csv',\n",
    "         './data/Chicago-2016-Summary.csv',\n",
    "         './data/Washington-2016-Summary.csv',\n",
    "         './examples/BayArea-Y3-Summary.csv']\n",
    "for file in files:\n",
    "    print(str(rides_greater_thirty(file))+\"%\")"
   ]
  },
  {
   "cell_type": "markdown",
   "metadata": {},
   "source": [
    "**Question 4c**: Dig deeper into the question of trip duration based on ridership. Choose one city. Within that city, which type of user takes longer rides on average: Subscribers or Customers?\n",
    "\n",
    "**Answer**: \n",
    "   * For NYC:\n",
    "        * __Customer__ takes longer rides than Subscriber.\n",
    "   * For Chicago:\n",
    "        * **Customer** takes longer rides than Subscriber.\n",
    "   * For Washington:\n",
    "        * **Customer** takes longer rides than Subscriber."
   ]
  },
  {
   "cell_type": "code",
   "execution_count": 16,
   "metadata": {},
   "outputs": [],
   "source": [
    "## Use this and additional cells to answer Question 4c. If you have    ##\n",
    "## not done so yet, consider revising some of your previous code to    ##\n",
    "## make use of functions for reusability.                              ##\n",
    "##                                                                     ##\n",
    "## TIP: For the Bay Area example data, you should find the average     ##\n",
    "## Subscriber trip duration to be 9.5 minutes and the average Customer ##\n",
    "## trip duration to be 54.6 minutes. Do the other cities have this     ##\n",
    "## level of difference?                                                ##\n",
    "def user_type_avg_ride(filename):\n",
    "    #Print the city name.\n",
    "    city = filename.split('-')[0].split('/')[-1]\n",
    "    print(\"City:\",city)\n",
    "    \n",
    "    #Open the file and process data.\n",
    "    with open(filename,'r')as f_in:\n",
    "        #Create reader objet.\n",
    "        reader = csv.DictReader(f_in)\n",
    "        \n",
    "        #Initializa variables for operations.\n",
    "        user_type_sub = 0\n",
    "        user_type_cus = 0\n",
    "        sum_sub = 0\n",
    "        sum_cus = 0\n",
    "        count_sub = 0\n",
    "        count_cus = 0\n",
    "        avg_sub_trp_duration = 0\n",
    "        avg_cus_trp_duration = 0\n",
    "        \n",
    "        #Start the processing.\n",
    "        for row in reader:\n",
    "            if row['user_type'] == 'Subscriber':\n",
    "                sum_sub = sum_sub + float(row['duration'])\n",
    "                count_sub += 1\n",
    "            if row['user_type'] == 'Customer':\n",
    "                sum_cus = sum_cus + float(row['duration'])\n",
    "                count_cus += 1\n",
    "        avg_sub_trp_duration = float(sum_sub/count_sub)\n",
    "        avg_cus_trp_duration = float(sum_cus/count_cus)\n",
    "        print(\"  Average Subscriber trip duration:\", str(round(avg_sub_trp_duration,1)) + \" Minutes\")\n",
    "        print(\"  Average Customer trip duration:\", str(round(avg_cus_trp_duration,1)) + \" Minutes\")"
   ]
  },
  {
   "cell_type": "code",
   "execution_count": 17,
   "metadata": {},
   "outputs": [
    {
     "name": "stdout",
     "output_type": "stream",
     "text": [
      "City: NYC\n",
      "  Average Subscriber trip duration: 13.7 Minutes\n",
      "  Average Customer trip duration: 33.0 Minutes\n",
      "City: Chicago\n",
      "  Average Subscriber trip duration: 12.1 Minutes\n",
      "  Average Customer trip duration: 31.0 Minutes\n",
      "City: Washington\n",
      "  Average Subscriber trip duration: 12.5 Minutes\n",
      "  Average Customer trip duration: 41.7 Minutes\n",
      "City: BayArea\n",
      "  Average Subscriber trip duration: 9.5 Minutes\n",
      "  Average Customer trip duration: 54.6 Minutes\n"
     ]
    }
   ],
   "source": [
    "files = ['./data/NYC-2016-Summary.csv',\n",
    "         './data/Chicago-2016-Summary.csv',\n",
    "         './data/Washington-2016-Summary.csv',\n",
    "         './examples/BayArea-Y3-Summary.csv']\n",
    "for file in files:\n",
    "    user_type_avg_ride(file)"
   ]
  },
  {
   "cell_type": "markdown",
   "metadata": {},
   "source": [
    "<a id='visualizations'></a>\n",
    "### Visualizations\n",
    "\n",
    "The last set of values that you computed should have pulled up an interesting result. While the mean trip time for Subscribers is well under 30 minutes, the mean trip time for Customers is actually _above_ 30 minutes! It will be interesting for us to look at how the trip times are distributed. In order to do this, a new library will be introduced here, `matplotlib`. Run the cell below to load the library and to generate an example plot."
   ]
  },
  {
   "cell_type": "code",
   "execution_count": 18,
   "metadata": {},
   "outputs": [
    {
     "data": {
      "image/png": "[encoded data removed]",
      "text/plain": [
       "<matplotlib.figure.Figure at 0x7f50084b5fd0>"
      ]
     },
     "metadata": {},
     "output_type": "display_data"
    }
   ],
   "source": [
    "# load library\n",
    "import matplotlib.pyplot as plt\n",
    "\n",
    "# this is a 'magic word' that allows for plots to be displayed\n",
    "# inline with the notebook. If you want to know more, see:\n",
    "# http://ipython.readthedocs.io/en/stable/interactive/magics.html\n",
    "%matplotlib inline \n",
    "\n",
    "# example histogram, data taken from bay area sample\n",
    "data = [ 7.65,  8.92,  7.42,  5.50, 16.17,  4.20,  8.98,  9.62, 11.48, 14.33,\n",
    "        19.02, 21.53,  3.90,  7.97,  2.62,  2.67,  3.08, 14.40, 12.90,  7.83,\n",
    "        25.12,  8.30,  4.93, 12.43, 10.60,  6.17, 10.88,  4.78, 15.15,  3.53,\n",
    "         9.43, 13.32, 11.72,  9.85,  5.22, 15.10,  3.95,  3.17,  8.78,  1.88,\n",
    "         4.55, 12.68, 12.38,  9.78,  7.63,  6.45, 17.38, 11.90, 11.52,  8.63,]\n",
    "plt.hist(data)\n",
    "plt.title('Distribution of Trip Durations')\n",
    "plt.xlabel('Duration (m)')\n",
    "plt.show()"
   ]
  },
  {
   "cell_type": "markdown",
   "metadata": {},
   "source": [
    "In the above cell, we collected fifty trip times in a list, and passed this list as the first argument to the `.hist()` function. This function performs the computations and creates plotting objects for generating a histogram, but the plot is actually not rendered until the `.show()` function is executed. The `.title()` and `.xlabel()` functions provide some labeling for plot context.\n",
    "\n",
    "You will now use these functions to create a histogram of the trip times for the city you selected in question 4c. Don't separate the Subscribers and Customers for now: just collect all of the trip times and plot them."
   ]
  },
  {
   "cell_type": "code",
   "execution_count": 19,
   "metadata": {},
   "outputs": [],
   "source": [
    "## Use this and additional cells to collect all of the trip times as a list ##\n",
    "## and then use pyplot functions to generate a histogram of trip times.     ##\n",
    "\n",
    "#Load library.\n",
    "import matplotlib.pyplot as plt\n",
    "%matplotlib inline\n",
    "\n",
    "#Import data of first 100 trip durations of the city NYC.\n",
    "def plot_hist_NYC(filename):\n",
    "    #Create an Empty list to store data.\n",
    "    data_NYC = []\n",
    "    \n",
    "    #Print the city.\n",
    "    city = filename.split('-')[0].split('/')[-1]\n",
    "    print(\"City: \",city)\n",
    "    \n",
    "    #Open the file and create a reader object.\n",
    "    with open(filename,'r')as f_in:\n",
    "        #Create reader object.\n",
    "        reader = csv.DictReader(f_in)\n",
    "        \n",
    "        #Take one variable to track the data count.\n",
    "        count = 0\n",
    "        #Use for--loop to iterate over reader object.\n",
    "        for row in reader:\n",
    "            if(count < 50):\n",
    "                data_NYC.append(round(float(row['duration']),1))\n",
    "                count+=1\n",
    "        print(data_NYC)\n",
    "        \n",
    "        #Perform computation and create plotiing objects for generating a histogram.\n",
    "        plt.hist(data_NYC,bins=range(0,75),stacked=True,width=5)\n",
    "        #Lableing for plot context.\n",
    "        plt.title(\"Distribution of trip durations\")\n",
    "        plt.xlabel(\"Duration(m)\")\n",
    "\n",
    "        #Render the plot.\n",
    "        plt.show()"
   ]
  },
  {
   "cell_type": "code",
   "execution_count": 20,
   "metadata": {},
   "outputs": [
    {
     "name": "stdout",
     "output_type": "stream",
     "text": [
      "City:  NYC\n",
      "[14.0, 11.4, 5.2, 12.3, 20.9, 8.8, 11.0, 7.7, 3.4, 7.1, 13.3, 9.7, 8.4, 23.9, 11.2, 9.0, 3.2, 13.9, 13.1, 10.0, 20.6, 7.7, 23.4, 4.7, 3.5, 16.4, 5.2, 23.7, 11.2, 3.7, 17.8, 4.7, 13.4, 2.4, 11.0, 23.4, 6.3, 10.6, 14.0, 32.1, 11.9, 9.5, 6.2, 6.7, 3.5, 6.9, 2.5, 13.0, 5.1, 6.8]\n"
     ]
    },
    {
     "data": {
      "image/png": "[encoded data removed]",
      "text/plain": [
       "<matplotlib.figure.Figure at 0x7f500849e860>"
      ]
     },
     "metadata": {},
     "output_type": "display_data"
    }
   ],
   "source": [
    "plot_hist_NYC('./data/NYC-2016-Summary.csv')"
   ]
  },
  {
   "cell_type": "markdown",
   "metadata": {},
   "source": [
    "If you followed the use of the `.hist()` and `.show()` functions exactly like in the example, you're probably looking at a plot that's completely unexpected. The plot consists of one extremely tall bar on the left, maybe a very short second bar, and a whole lot of empty space in the center and right. Take a look at the duration values on the x-axis. This suggests that there are some highly infrequent outliers in the data. Instead of reprocessing the data, you will use additional parameters with the `.hist()` function to limit the range of data that is plotted. Documentation for the function can be found [[here]](https://matplotlib.org/devdocs/api/_as_gen/matplotlib.pyplot.hist.html#matplotlib.pyplot.hist).\n",
    "\n",
    "**Question 5**: Use the parameters of the `.hist()` function to plot the distribution of trip times for the Subscribers in your selected city. Do the same thing for only the Customers. Add limits to the plots so that only trips of duration less than 75 minutes are plotted. As a bonus, set the plots up so that bars are in five-minute wide intervals. For each group, where is the peak of each distribution? How would you describe the shape of each distribution?\n",
    "\n",
    "**Answer**:\n",
    "   * City: NYC\n",
    "       * For Subscriber: This is positively skewed distribution or Right skewed distribution.\n",
    "           * __Remark: Max. number of trips are around 10 mins duration.__\n",
    "       * For Customer: This is positively skewed distribution or Right skewed distribution.\n",
    "           * __Remark: Max. number of trips are around 20 mins--30 mins durations.__\n",
    "   * City : Chicago\n",
    "       * For Subscriber: This is positively skewed distribution or Right skewed distribution.\n",
    "           * __Remark: Max. number of trips are around 10 mins duration.__\n",
    "       * For Customer: This is positively skewed distribution or Right skewed distribution.\n",
    "           * __Remark: Max. number of trips are around 20 mins--30 mins durations.__\n",
    "   * City : Washington\n",
    "       * For Subscriber: This is positively skewed distribution or Right skewed distribution.\n",
    "           * __Remark: Max. number of trips are around 10 mins duration.__\n",
    "       * For Customer: This is positively skewed distribution or Right skewed distribution.\n",
    "           * __Remark: Max. number of trips are around 20 mins--30 mins durations.__       "
   ]
  },
  {
   "cell_type": "code",
   "execution_count": 21,
   "metadata": {},
   "outputs": [],
   "source": [
    "## Use this and additional cells to answer Question 5. ##\n",
    "#Load library.\n",
    "import matplotlib.pyplot as plt\n",
    "%matplotlib inline\n",
    "\n",
    "#Import data of the trip duration for the subscriber and customer.\n",
    "def plot_hist(filename):\n",
    "    #Define an empty list to store trip duration values.\n",
    "    subs_list = []\n",
    "    cust_list = []\n",
    "    city = filename.split('-')[0].split('/')[-1]\n",
    "    print(\"City: \",city)\n",
    "    \n",
    "    #Open the file and create reader object.\n",
    "    with open(filename,'r')as f_in:\n",
    "        #Create reader object.\n",
    "        reader = csv.DictReader(f_in)\n",
    "        \n",
    "        #Use for--loop to iterate over the object.\n",
    "        for row in reader:\n",
    "            if row['user_type']=='Subscriber':\n",
    "                subs_list.append(round(float(row['duration']),1))\n",
    "            if row['user_type']=='Customer':\n",
    "                cust_list.append(round(float(row['duration']),1))\n",
    "        #Perform computation and create plotting objects for generating a histogram user_type:Subscriber.\n",
    "        plt.hist(subs_list,bins=range(0,75),stacked=True,width=5)\n",
    "        plt.title(\"Distribution of trip durations-user_type:Subscriber\")\n",
    "        plt.xlabel(\"Duration(m)\")\n",
    "        #Render the plot and show.\n",
    "        plt.show()\n",
    "        \n",
    "        #Perform computation and create plotting objects for generating a histogram for user_type:Customer.\n",
    "        plt.hist(cust_list,bins=range(0,75),stacked=True,width=5)\n",
    "        plt.title(\"Distribution of trip durations-user_type:Customer\")\n",
    "        plt.xlabel(\"Duration(m)\")\n",
    "        #Render the plot and show.\n",
    "        plt.show()"
   ]
  },
  {
   "cell_type": "code",
   "execution_count": 22,
   "metadata": {
    "scrolled": false
   },
   "outputs": [
    {
     "name": "stdout",
     "output_type": "stream",
     "text": [
      "City:  NYC\n"
     ]
    },
    {
     "data": {
      "image/png": "[encoded data removed]",
      "text/plain": [
       "<matplotlib.figure.Figure at 0x7f4fed7d92e8>"
      ]
     },
     "metadata": {},
     "output_type": "display_data"
    },
    {
     "data": {
      "image/png": "[encoded data removed]",
      "text/plain": [
       "<matplotlib.figure.Figure at 0x7f4fed7eb6d8>"
      ]
     },
     "metadata": {},
     "output_type": "display_data"
    },
    {
     "name": "stdout",
     "output_type": "stream",
     "text": [
      "City:  Chicago\n"
     ]
    },
    {
     "data": {
      "image/png": "[encoded data removed]",
      "text/plain": [
       "<matplotlib.figure.Figure at 0x7f4fed7d9d68>"
      ]
     },
     "metadata": {},
     "output_type": "display_data"
    },
    {
     "data": {
      "image/png": "[encoded data removed]",
      "text/plain": [
       "<matplotlib.figure.Figure at 0x7f4fed6bda20>"
      ]
     },
     "metadata": {},
     "output_type": "display_data"
    },
    {
     "name": "stdout",
     "output_type": "stream",
     "text": [
      "City:  Washington\n"
     ]
    },
    {
     "data": {
      "image/png": "[encoded data removed]",
      "text/plain": [
       "<matplotlib.figure.Figure at 0x7f4fed7d90f0>"
      ]
     },
     "metadata": {},
     "output_type": "display_data"
    },
    {
     "data": {
      "image/png": "[encoded data removed]",
      "text/plain": [
       "<matplotlib.figure.Figure at 0x7f4fed499f60>"
      ]
     },
     "metadata": {},
     "output_type": "display_data"
    },
    {
     "name": "stdout",
     "output_type": "stream",
     "text": [
      "City:  BayArea\n"
     ]
    },
    {
     "data": {
      "image/png": "[encoded data removed]",
      "text/plain": [
       "<matplotlib.figure.Figure at 0x7f4fed42e978>"
      ]
     },
     "metadata": {},
     "output_type": "display_data"
    },
    {
     "data": {
      "image/png": "[encoded data removed]",
      "text/plain": [
       "<matplotlib.figure.Figure at 0x7f4fed88c6d8>"
      ]
     },
     "metadata": {},
     "output_type": "display_data"
    }
   ],
   "source": [
    "files = ['./data/NYC-2016-Summary.csv',\n",
    "         './data/Chicago-2016-Summary.csv',\n",
    "         './data/Washington-2016-Summary.csv',\n",
    "         './examples/BayArea-Y3-Summary.csv']\n",
    "for file in files:\n",
    "    plot_hist(file)"
   ]
  },
  {
   "cell_type": "markdown",
   "metadata": {
    "collapsed": true
   },
   "source": [
    "<a id='eda_continued'></a>\n",
    "## Performing Your Own Analysis\n",
    "\n",
    "So far, you've performed an initial exploration into the data available. You have compared the relative volume of trips made between three U.S. cities and the ratio of trips made by Subscribers and Customers. For one of these cities, you have investigated differences between Subscribers and Customers in terms of how long a typical trip lasts. Now it is your turn to continue the exploration in a direction that you choose. Here are a few suggestions for questions to explore:\n",
    "\n",
    "- How does ridership differ by month or season? Which month / season has the highest ridership? Does the ratio of Subscriber trips to Customer trips change depending on the month or season?\n",
    "- __Is the pattern of ridership different on the weekends versus weekdays? On what days are Subscribers most likely to use the system? What about Customers? Does the average duration of rides change depending on the day of the week?__\n",
    "- During what time of day is the system used the most? Is there a difference in usage patterns for Subscribers and Customers?\n",
    "\n",
    "If any of the questions you posed in your answer to question 1 align with the bullet points above, this is a good opportunity to investigate one of them. As part of your investigation, you will need to create a visualization. If you want to create something other than a histogram, then you might want to consult the [Pyplot documentation](https://matplotlib.org/devdocs/api/pyplot_summary.html). In particular, if you are plotting values across a categorical variable (e.g. city, user type), a bar chart will be useful. The [documentation page for `.bar()`](https://matplotlib.org/devdocs/api/_as_gen/matplotlib.pyplot.bar.html#matplotlib.pyplot.bar) includes links at the bottom of the page with examples for you to build off of for your own use.\n",
    "\n",
    "**Question 6**: Continue the investigation by exploring another question that could be answered by the data available. Document the question you want to explore below. Your investigation should involve at least two variables and should compare at least two groups. You should also use at least one visualization as part of your explorations.\n",
    "\n",
    "* **Answer**: \n",
    "* __Selected Question__:Is the pattern of ridership different on the weekends versus weekdays? On what days are Subscribers most likely to use the system? What about Customers? Does the average duration of rides change depending on the day of the week?\n",
    "Answers:\n",
    "  * __On what days are Subscribers most likely to use the system? What about Customers?__\n",
    "              * Note: See output of function-3\n",
    "      * City : NYC\n",
    "          * Subscriber : Weekdays\n",
    "          * Customer : Weekdays\n",
    "      * City : Chicago\n",
    "          * Subscriber : Weekdays\n",
    "          * Customer : Weekdays\n",
    "      * City : Washington\n",
    "          * Subscriber : Weekdays\n",
    "          * Customer : Weekdays\n",
    "  * __Does the average duration of rides change depending on the day of the week?__\n",
    "              * Note: See output of function-2 as well as histograms.\n",
    "      * City : NYC\n",
    "          * Avg trip duration : **15 Minutes**\n",
    "          * Avg weekend trip duration : 19 Minutes\n",
    "          * Avg weekday trip duration : 15 Minutes\n",
    "          * **_Remark : Yes, avg duration of rides change on weekends but same on weekdays._**\n",
    "      * City : Chicago\n",
    "          * Avg trip duration : **16 Minutes**\n",
    "          * Avg weekend trip duration : 21 Minutes\n",
    "          * Avg weekday trip duration : 15 Minutes\n",
    "          * **_Remark : Yes, avg duration of rides change depending on the day of the week._**\n",
    "      * City : Washington\n",
    "          * Avg trip duration : **18 Minutes**\n",
    "          * Avg weekend trip duration : 24 Minutes\n",
    "          * Avg weekday trip duration : 17 Minutes\n",
    "          * **_Remark : Yes, avg duration of rides change depending on the day of the week._**\n",
    "  * __Is the pattern of ridership different on the weekends versus weekdays?__\n",
    "          * **_Remark: Yes, the pattern of ridership is different on weekends and weekdays._**\n",
    "              * Note: See output of function-1"
   ]
  },
  {
   "cell_type": "code",
   "execution_count": 23,
   "metadata": {},
   "outputs": [],
   "source": [
    "## Use this and additional cells to continue to explore the dataset. ##\n",
    "## Once you have performed your exploration, document your findings  ##\n",
    "## in the Markdown cell above.##\n",
    "# This function calculates how much trips happened on Weekends and Weekdays.\n",
    "# Note: Consider, Weekends--Saturday & Sunday    Weekdays--Other than Saturday & Sunday\n",
    "#------------------FUNCTION-1-------------------\n",
    "def trip_count(filename):\n",
    "    city = filename.split('-')[0].split('/')[-1]\n",
    "    print(\"City:\",city)\n",
    "    \n",
    "    #Open the file to read.\n",
    "    with open(filename,'r')as f_in:\n",
    "        #Create reader object.\n",
    "        reader = csv.DictReader(f_in)\n",
    "        \n",
    "        #Declare variables for trip count.\n",
    "        count_weekends = 0\n",
    "        count_weekdays = 0\n",
    "        total_rides = 0\n",
    "        \n",
    "        #Iterate over reader object to read data line by line.\n",
    "        for row in reader:\n",
    "            \n",
    "            #Check for weekends and weekdays conditions.\n",
    "            if row['day_of_week'] == 'Saturday' or row['day_of_week'] == 'Sunday':\n",
    "                count_weekends += 1\n",
    "            else:\n",
    "                count_weekdays += 1\n",
    "            total_rides += 1\n",
    "        return (count_weekends,count_weekdays,total_rides)"
   ]
  },
  {
   "cell_type": "code",
   "execution_count": 24,
   "metadata": {},
   "outputs": [
    {
     "name": "stdout",
     "output_type": "stream",
     "text": [
      "City: NYC\n",
      " Weekend trips: 64705\n",
      " Weekday trips: 212093\n",
      "City: Chicago\n",
      " Weekend trips: 19581\n",
      " Weekday trips: 52550\n",
      "City: Washington\n",
      " Weekend trips: 17127\n",
      " Weekday trips: 49199\n",
      "City: BayArea\n",
      " Weekend trips: 539\n",
      " Weekday trips: 5760\n"
     ]
    }
   ],
   "source": [
    "files = ['./data/NYC-2016-Summary.csv',\n",
    "         './data/Chicago-2016-Summary.csv',\n",
    "         './data/Washington-2016-Summary.csv',\n",
    "         './examples/BayArea-Y3-Summary.csv']\n",
    "for file in files:\n",
    "    weekends,weekdays,total_rides = trip_count(file)\n",
    "    print(\" Weekend trips:\",weekends)\n",
    "    print(\" Weekday trips:\",weekdays)"
   ]
  },
  {
   "cell_type": "code",
   "execution_count": 25,
   "metadata": {},
   "outputs": [],
   "source": [
    "#This function is used to calculate days(weekend or weekday) on which Subscribers and Customers most used the system. \n",
    "#--------------------------FUNCTION-3--------------------------------\n",
    "def system_used(filename):\n",
    "    city = filename.split('-')[0].split('/')[-1]\n",
    "    print(\"City:\",city)\n",
    "    \n",
    "    #Open the file to read.\n",
    "    with open(filename,'r')as f_in:\n",
    "        #Create reader object.\n",
    "        reader = csv.DictReader(f_in)\n",
    "        \n",
    "        #Declare variables to track count.\n",
    "        sub_weekend_count = 0\n",
    "        sub_weekday_count = 0\n",
    "        cus_weekend_count = 0\n",
    "        cus_weekday_count = 0\n",
    "        \n",
    "        #Iterate over reader object to read data line by line.\n",
    "        for row in reader:\n",
    "            if row['user_type'] == 'Subscriber':\n",
    "                #Check for weekend & weekday conditions.\n",
    "                if row['day_of_week'] == 'Saturday' or row['day_of_week'] == 'Sunday':\n",
    "                    sub_weekend_count += 1\n",
    "                else:\n",
    "                    sub_weekday_count += 1\n",
    "            if row['user_type'] == 'Customer':\n",
    "                #Check for weekend & weekday conditions.\n",
    "                if row['day_of_week'] == 'Saturday' or row['day_of_week'] == 'Sunday':\n",
    "                    cus_weekend_count += 1\n",
    "                else:\n",
    "                    cus_weekday_count += 1\n",
    "        return(sub_weekend_count,sub_weekday_count,cus_weekend_count,cus_weekday_count)"
   ]
  },
  {
   "cell_type": "code",
   "execution_count": 26,
   "metadata": {},
   "outputs": [
    {
     "name": "stdout",
     "output_type": "stream",
     "text": [
      "City: NYC\n",
      " User_type:Subscriber\n",
      "  Weekend trips: 50580\n",
      "  Weekday trips: 195316\n",
      " User_type:Customer\n",
      "  Weekend trips: 13845\n",
      "  Weekday trips: 16340\n",
      "City: Chicago\n",
      " User_type:Subscriber\n",
      "  Weekend trips: 11048\n",
      "  Weekday trips: 43934\n",
      " User_type:Customer\n",
      "  Weekend trips: 8533\n",
      "  Weekday trips: 8616\n",
      "City: Washington\n",
      " User_type:Subscriber\n",
      "  Weekend trips: 10841\n",
      "  Weekday trips: 40912\n",
      " User_type:Customer\n",
      "  Weekend trips: 6286\n",
      "  Weekday trips: 8287\n",
      "City: BayArea\n",
      " User_type:Subscriber\n",
      "  Weekend trips: 297\n",
      "  Weekday trips: 5369\n",
      " User_type:Customer\n",
      "  Weekend trips: 242\n",
      "  Weekday trips: 391\n"
     ]
    }
   ],
   "source": [
    "files = ['./data/NYC-2016-Summary.csv',\n",
    "         './data/Chicago-2016-Summary.csv',\n",
    "         './data/Washington-2016-Summary.csv',\n",
    "         './examples/BayArea-Y3-Summary.csv']\n",
    "for file in files:\n",
    "    subscriber_weekend_count,subscriber_weekday_count,customer_weekend_count,customer_weekday_count = system_used(file)\n",
    "    print(\" User_type:Subscriber\")\n",
    "    print(\"  Weekend trips:\",subscriber_weekend_count)\n",
    "    print(\"  Weekday trips:\",subscriber_weekday_count)\n",
    "    print(\" User_type:Customer\")\n",
    "    print(\"  Weekend trips:\",customer_weekend_count)\n",
    "    print(\"  Weekday trips:\",customer_weekday_count)"
   ]
  },
  {
   "cell_type": "code",
   "execution_count": 27,
   "metadata": {},
   "outputs": [],
   "source": [
    "# This function is used check that does the average duration of rides change depending on the day of the week?\n",
    "#----------------FUNCTION-2------------------------\n",
    "def avg_trip_duration_dayoftheweek(filename):\n",
    "    city = filename.split('-')[0].split('/')[-1]\n",
    "    print(\"City:\",city)\n",
    "    \n",
    "    # Open the file to read.\n",
    "    with open(filename,'r')as f_in:\n",
    "        #Create reader object.\n",
    "        reader = csv.DictReader(f_in)\n",
    "        \n",
    "        #Declare variables for computation.\n",
    "        num_of_trips_weekend = 0\n",
    "        num_of_trips_weekday = 0\n",
    "        sum_weekend_trips = 0\n",
    "        sum_weekday_trips = 0\n",
    "        avg_weekend_trip_dur = 0\n",
    "        avg_weekday_trip_dur = 0\n",
    "        \n",
    "        #Iterate over reader object to read data line by line.\n",
    "        for row in reader:\n",
    "            if row['day_of_week'] == 'Saturday' or row['day_of_week'] == 'Sunday':\n",
    "                #list_weekend.append(round(float(row['duration']),1))\n",
    "                sum_weekend_trips = sum_weekend_trips + (round(float(row['duration']),1))\n",
    "                num_of_trips_weekend += 1\n",
    "            else:\n",
    "                #list_weekday.append(round(float(row['duration']),1))\n",
    "                sum_weekday_trips = sum_weekday_trips + (round(float(row['duration']),1))\n",
    "                num_of_trips_weekday += 1\n",
    "        avg_weekend_trip_dur = round((sum_weekend_trips/num_of_trips_weekend))\n",
    "        avg_weekday_trip_dur = round((sum_weekday_trips/num_of_trips_weekday))\n",
    "        return (avg_weekend_trip_dur,avg_weekday_trip_dur)"
   ]
  },
  {
   "cell_type": "code",
   "execution_count": 28,
   "metadata": {},
   "outputs": [
    {
     "name": "stdout",
     "output_type": "stream",
     "text": [
      "City: NYC\n",
      " Avg weekend trip duration: 19 Minutes\n",
      " Avg weekday trip duration: 15 Minutes\n",
      "City: Chicago\n",
      " Avg weekend trip duration: 21 Minutes\n",
      " Avg weekday trip duration: 15 Minutes\n",
      "City: Washington\n",
      " Avg weekend trip duration: 24 Minutes\n",
      " Avg weekday trip duration: 17 Minutes\n",
      "City: BayArea\n",
      " Avg weekend trip duration: 35 Minutes\n",
      " Avg weekday trip duration: 12 Minutes\n"
     ]
    }
   ],
   "source": [
    "files = ['./data/NYC-2016-Summary.csv',\n",
    "         './data/Chicago-2016-Summary.csv',\n",
    "         './data/Washington-2016-Summary.csv',\n",
    "         './examples/BayArea-Y3-Summary.csv']\n",
    "for file in files:\n",
    "    weekend_trip_dur_avg,weekday_trip_dur_avg = avg_trip_duration_dayoftheweek(file)\n",
    "    print(\" Avg weekend trip duration:\",str(weekend_trip_dur_avg) + \" Minutes\")\n",
    "    print(\" Avg weekday trip duration:\",str(weekday_trip_dur_avg) + \" Minutes\")"
   ]
  },
  {
   "cell_type": "code",
   "execution_count": 29,
   "metadata": {},
   "outputs": [],
   "source": [
    "#Load Library.\n",
    "import matplotlib.pyplot as plt\n",
    "%matplotlib inline\n",
    "\n",
    "#Import data of trip duration for weekdays and weekends.\n",
    "def trip_duration_dayofweek_hist_plot(filename):\n",
    "    #Define an Empty lists to store weekend and weekdays trips duration.\n",
    "    list_weekend = []\n",
    "    list_weekday = []\n",
    "    \n",
    "    city = filename.split('-')[0].split('/')[-1]\n",
    "    print(\"City:\",city)\n",
    "    \n",
    "    #Open the file to read.\n",
    "    with open(filename,'r')as f_in:\n",
    "        #Create reader object.\n",
    "        reader = csv.DictReader(f_in)\n",
    "        \n",
    "        #Iterate over reader object to read data line by line.\n",
    "        for row in reader:\n",
    "            if row['day_of_week'] == 'Saturday' or row['day_of_week'] == 'Sunday':\n",
    "                list_weekend.append(round(float(row['duration']),1))\n",
    "            else:\n",
    "                list_weekday.append(round(float(row['duration']),1))\n",
    "        plt.hist(list_weekend,bins=range(0,75),stacked=True,width=5)\n",
    "        plt.title(\"Distribution of trip durations-day_of_week:Weekends\")\n",
    "        plt.xlabel(\"Duration(m)\")\n",
    "        #Render the plot and show.\n",
    "        plt.show()\n",
    "        \n",
    "        plt.hist(list_weekday,bins=range(0,75),stacked=True,width=5)\n",
    "        plt.title(\"Distribution of trip durations-day_of_week:Weekdays\")\n",
    "        plt.xlabel(\"Duration(m)\")\n",
    "        #Render the plot and show.\n",
    "        plt.show()"
   ]
  },
  {
   "cell_type": "code",
   "execution_count": 30,
   "metadata": {
    "scrolled": false
   },
   "outputs": [
    {
     "name": "stdout",
     "output_type": "stream",
     "text": [
      "City: NYC\n"
     ]
    },
    {
     "data": {
      "image/png": "[encoded data removed]",
      "text/plain": [
       "<matplotlib.figure.Figure at 0x7f50084b5940>"
      ]
     },
     "metadata": {},
     "output_type": "display_data"
    },
    {
     "data": {
      "image/png": "[encoded data removed]",
      "text/plain": [
       "<matplotlib.figure.Figure at 0x7f4fecd4e390>"
      ]
     },
     "metadata": {},
     "output_type": "display_data"
    },
    {
     "name": "stdout",
     "output_type": "stream",
     "text": [
      "City: Chicago\n"
     ]
    },
    {
     "data": {
      "image/png": "[encoded data removed]",
      "text/plain": [
       "<matplotlib.figure.Figure at 0x7f4fecbdd4e0>"
      ]
     },
     "metadata": {},
     "output_type": "display_data"
    },
    {
     "data": {
      "image/png": "[encoded data removed]",
      "text/plain": [
       "<matplotlib.figure.Figure at 0x7f4fecb24e48>"
      ]
     },
     "metadata": {},
     "output_type": "display_data"
    },
    {
     "name": "stdout",
     "output_type": "stream",
     "text": [
      "City: Washington\n"
     ]
    },
    {
     "data": {
      "image/png": "[encoded data removed]",
      "text/plain": [
       "<matplotlib.figure.Figure at 0x7f4fed4e37f0>"
      ]
     },
     "metadata": {},
     "output_type": "display_data"
    },
    {
     "data": {
      "image/png": "[encoded data removed]",
      "text/plain": [
       "<matplotlib.figure.Figure at 0x7f4fed124f60>"
      ]
     },
     "metadata": {},
     "output_type": "display_data"
    },
    {
     "name": "stdout",
     "output_type": "stream",
     "text": [
      "City: BayArea\n"
     ]
    },
    {
     "data": {
      "image/png": "[encoded data removed]",
      "text/plain": [
       "<matplotlib.figure.Figure at 0x7f4fed0e95c0>"
      ]
     },
     "metadata": {},
     "output_type": "display_data"
    },
    {
     "data": {
      "image/png": "[encoded data removed]",
      "text/plain": [
       "<matplotlib.figure.Figure at 0x7f4fed104940>"
      ]
     },
     "metadata": {},
     "output_type": "display_data"
    }
   ],
   "source": [
    "files = ['./data/NYC-2016-Summary.csv',\n",
    "         './data/Chicago-2016-Summary.csv',\n",
    "         './data/Washington-2016-Summary.csv',\n",
    "         './examples/BayArea-Y3-Summary.csv']\n",
    "for file in files:\n",
    "    trip_duration_dayofweek_hist_plot(file)"
   ]
  },
  {
   "cell_type": "markdown",
   "metadata": {},
   "source": [
    "* City: NYC\n",
    "    * For Weekends: This is positively skewed or Right skewed distribution.\n",
    "        * __Remark: Max. number of trips are around 10 min durations.__\n",
    "    * For Weekdays: This is positively skewed or Right skewed distribution.\n",
    "        * __Remark: Max. number of trips are around 10 min durations.__\n",
    "* City: Chicago\n",
    "    * For Weekends: This is positively skewed or Right skewed distribution.\n",
    "        * __Remark: Max. number of trips are around 10--20 min durations.__\n",
    "    * For Weekdays: This is positively skewed or Right skewed distribution.\n",
    "        * __Remark: Max. number of trips are around 10 min durations.__\n",
    "* City: Washington\n",
    "    * For Weekends: This is positively skewed or Right skewed distribution.\n",
    "        * __Remark: Max. number of trips are around 10 min durations.__\n",
    "    * For Weekdays: This is positively skewed or Right skewed distribution.\n",
    "        * __Remark: Max. number of trips are around 10 min durations.__"
   ]
  },
  {
   "cell_type": "markdown",
   "metadata": {},
   "source": [
    "<a id='conclusions'></a>\n",
    "## Conclusions\n",
    "\n",
    "Congratulations on completing the project! This is only a sampling of the data analysis process: from generating questions, wrangling the data, and to exploring the data. Normally, at this point in the data analysis process, you might want to draw conclusions about the data by performing a statistical test or fitting the data to a model for making predictions. There are also a lot of potential analyses that could be performed on the data which are not possible with only the data provided. For example, detailed location data has not been investigated. Where are the most commonly used docks? What are the most common routes? As another example, weather has potential to have a large impact on daily ridership. How much is ridership impacted when there is rain or snow? Are subscribers or customers affected more by changes in weather?\n",
    "\n",
    "**Question 7**: Putting the bike share data aside, think of a topic or field of interest where you would like to be able to apply the techniques of data science. What would you like to be able to learn from your chosen subject?\n",
    "\n",
    "**Answer**: I will like to apply this Data Science skill to analyze the \"__Population data__\" for any state or for any perticular district of that state. Here the Population Data include name of the person,__his age,gender,cast,monthly income,rural or Urban,source of income:Business or service,internet users(Yes/NO)__ and other parameters.Now, from this data swe can analyze the following things: \n",
    "    * What is the avg age of the population in that perticular state?\n",
    "    * What is the ratio of male vs female?\n",
    "    * How much the avg monthly income of the population and based on this we can determine how many people are there BPL(Below poverty line)?\n",
    "    * How much people are in Rural area and how much are in Urban area?\n",
    "    * Analysis based on source of income:\n",
    "        * What is the ratio of Business people vs service people\n",
    "    * How much are there internet users?\n",
    "        * Major Access type: Mobile or PC\n",
    "    * Which type of network used?\n",
    "For parameter **cast** we can perform separate anylysis like follows:\n",
    "    * How much people are there of the specific cast?\n",
    "        * cast: SC,ST,OBC,Open,NT and Minority\n",
    "        \n",
    "> **Tip**: If we want to share the results of our analysis with others, we aren't limited to giving them a copy of the jupyter Notebook (.ipynb) file. We can also export the Notebook output in a form that can be opened even for those without Python installed. From the **File** menu in the upper left, go to the **Download as** submenu. You can then choose a different format that can be viewed more generally, such as HTML (.html) or\n",
    "PDF (.pdf). You may need additional packages or software to perform these exports.\n",
    "\n",
    "> If you are working on this project via the Project Notebook page in the classroom, you can also submit this project directly from the workspace. **Before you do that**, you should save an HTML copy of the completed project to the workspace by running the code cell below. If it worked correctly, the output code should be a 0, and if you click on the jupyter icon in the upper left, you should see your .html document in the workspace directory. Alternatively, you can download the .html copy of your report following the steps in the previous paragraph, then _upload_ the report to the directory (by clicking the jupyter icon).\n",
    "\n",
    "> Either way, once you've gotten the .html report in your workspace, you can complete your submission by clicking on the \"Submit Project\" button to the lower-right hand side of the workspace."
   ]
  },
  {
   "cell_type": "code",
   "execution_count": 31,
   "metadata": {},
   "outputs": [
    {
     "data": {
      "text/plain": [
       "0"
      ]
     },
     "execution_count": 31,
     "metadata": {},
     "output_type": "execute_result"
    }
   ],
   "source": [
    "from subprocess import call\n",
    "call(['python', '-m', 'nbconvert', 'Bike_Share_Analysis.ipynb'])"
   ]
  },
  {
   "cell_type": "code",
   "execution_count": null,
   "metadata": {},
   "outputs": [],
   "source": []
  }
 ],
 "metadata": {
  "anaconda-cloud": {},
  "kernelspec": {
   "display_name": "Python 3",
   "language": "python",
   "name": "python3"
  },
  "language_info": {
   "codemirror_mode": {
    "name": "ipython",
    "version": 3
   },
   "file_extension": ".py",
   "mimetype": "text/x-python",
   "name": "python",
   "nbconvert_exporter": "python",
   "pygments_lexer": "ipython3",
   "version": "3.6.3"
  }
 },
 "nbformat": 4,
 "nbformat_minor": 1
}
